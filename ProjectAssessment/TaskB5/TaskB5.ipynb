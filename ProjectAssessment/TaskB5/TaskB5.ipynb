{
 "cells": [
  {
   "cell_type": "markdown",
   "metadata": {},
   "source": [
    "# Importing Dependencies"
   ]
  },
  {
   "cell_type": "code",
   "execution_count": 1,
   "metadata": {},
   "outputs": [
    {
     "name": "stderr",
     "output_type": "stream",
     "text": [
      "C:\\Users\\THO NGUYEN\\AppData\\Local\\Temp\\ipykernel_20544\\609613471.py:3: DeprecationWarning: \n",
      "Pyarrow will become a required dependency of pandas in the next major release of pandas (pandas 3.0),\n",
      "(to allow more performant data types, such as the Arrow string type, and better interoperability with other libraries)\n",
      "but was not found to be installed on your system.\n",
      "If this would cause problems for you,\n",
      "please provide us feedback at https://github.com/pandas-dev/pandas/issues/54466\n",
      "        \n",
      "  import pandas as pd\n"
     ]
    },
    {
     "name": "stdout",
     "output_type": "stream",
     "text": [
      "WARNING:tensorflow:From d:\\DELL\\Desktop\\COS30018\\COS30018\\ProjectAssessment\\TaskB1\\myenv\\Lib\\site-packages\\keras\\src\\losses.py:2976: The name tf.losses.sparse_softmax_cross_entropy is deprecated. Please use tf.compat.v1.losses.sparse_softmax_cross_entropy instead.\n",
      "\n"
     ]
    }
   ],
   "source": [
    "# Task B2\n",
    "import numpy as np\n",
    "import pandas as pd\n",
    "import yfinance as yf\n",
    "import datetime as dt\n",
    "from sklearn import preprocessing\n",
    "from sklearn.model_selection import train_test_split\n",
    "import os\n",
    "\n",
    "# Task B3\n",
    "import plotly.graph_objects as go\n",
    "import plotly.express as px\n",
    "\n",
    "# Task B4\n",
    "from tensorflow.keras.models import Sequential\n",
    "from tensorflow.keras.layers import Input,SimpleRNN,LSTM, GRU, Dense, Dropout\n",
    "import matplotlib.pyplot as plt\n",
    "import sys\n",
    "\n",
    "# Task B5\n",
    "from tensorflow.keras import metrics"
   ]
  },
  {
   "cell_type": "markdown",
   "metadata": {},
   "source": [
    "# Hyperparameters"
   ]
  },
  {
   "cell_type": "code",
   "execution_count": 2,
   "metadata": {},
   "outputs": [],
   "source": [
    "# Task B2\n",
    "TICKER = \"AAPL\"\n",
    "START_DATE = \"2010-01-01\"\n",
    "END_DATE = \"2023-12-31\"\n",
    "LOOK_UP_DAYS = 60      \n",
    "TRAINING_RATIO = 0.8    # 0.7 == 70%\n",
    "SCALE_DATA = True\n",
    "SCALING_METHOD = \"MinMax\"       # MinMax, Standard\n",
    "\n",
    "# Task B3\n",
    "TRADING_PERIOD = 60\n",
    "CONSECUTIVE_DAYS = 300\n",
    "\n",
    "# Task B4\n",
    "NUMBER_OF_LAYER = 1\n",
    "NUMBER_OF_HIDDEN_UNITS = 80\n",
    "MODEL_NAME = \"RNN\"      ## \"RNN\". \"LSTM\", \"GRU\"\n",
    "DROP_OUT_RATE = 0     ## dropout rate in [0,1]\n",
    "NUMBER_OF_EPOCHS = 25\n",
    "BATCH_SIZE = 12\n",
    "FEATURE_PREDICT = \"Close\"    ## \"Open\", \"High\", \"Close\", \"Low\" \n",
    "LOSS_FUNCTION = \"huber_loss\" ## \"mean_squared_error\", \"mean_absolute_error\", \"huber_loss\"\n",
    "OPTIMIZER = \"adam\"  ## \"adam\", \"RMSprop\", \"SGD\"\n",
    "\n",
    "# Task B5\n",
    "K_SEQUENCE = 20\n",
    "START_TEST_DATE = \"2024-01-01\"\n",
    "END_TEST_DATE = \"2024-02-20\""
   ]
  },
  {
   "cell_type": "markdown",
   "metadata": {},
   "source": [
    "# Task B2: DATA PROCESSING 1"
   ]
  },
  {
   "cell_type": "markdown",
   "metadata": {},
   "source": [
    "## Scaling dataset"
   ]
  },
  {
   "cell_type": "code",
   "execution_count": 3,
   "metadata": {},
   "outputs": [],
   "source": [
    "def DataScaler(stock_data, scaling_method=SCALING_METHOD):\n",
    "\n",
    "    DatasetScaler = None\n",
    "    ColumnScalers = {\n",
    "\n",
    "    }\n",
    "    if scaling_method == \"MinMax\":\n",
    "        DatasetScaler = preprocessing.MinMaxScaler()\n",
    "        \n",
    "    \n",
    "    elif scaling_method == \"Standard\":\n",
    "        DatasetScaler = preprocessing.StandardScaler()\n",
    "\n",
    "    \n",
    "    # Learn the whole dataset\n",
    "    col_names = stock_data.columns\n",
    "    features = stock_data[col_names]\n",
    "    DatasetScaler.fit(features.values)\n",
    "    features = DatasetScaler.transform(features.values)\n",
    "    scaledDataFrame = pd.DataFrame(features, columns = col_names)\n",
    "    scaledDataFrame.index = stock_data.index\n",
    "    \n",
    "    for column in col_names:\n",
    "        column_scaler = None\n",
    "        if scaling_method == \"MinMax\":\n",
    "            column_scaler = preprocessing.MinMaxScaler()\n",
    "        elif scaling_method == \"Standard\":\n",
    "            column_scaler = preprocessing.StandardScaler()\n",
    "        column_scaler.fit(stock_data[column].values.reshape(-1,1))\n",
    "        ColumnScalers[column] = column_scaler\n",
    "\n",
    "    return scaledDataFrame, DatasetScaler, ColumnScalers\n"
   ]
  },
  {
   "cell_type": "markdown",
   "metadata": {},
   "source": [
    "## Loading Data Function"
   ]
  },
  {
   "cell_type": "code",
   "execution_count": 4,
   "metadata": {},
   "outputs": [],
   "source": [
    "def DataLoader(ticker=TICKER, start_date=START_DATE, end_date=END_DATE, scale=SCALE_DATA, scaling_method=SCALING_METHOD):\n",
    "    '''\n",
    "    ticker: is the code of the target ticker\n",
    "    start_date: a start date string with format YYYY/MM/DD\n",
    "    end_date: an end date string with format YYYY/MM/DD\n",
    "    scale: a boolean value, True by default\n",
    "    scaling_method: MinMax(by default), Standard.\n",
    "    '''\n",
    "\n",
    "    # result\n",
    "    result = {\n",
    "        \"dataset\": None,\n",
    "        \"datasetScaler\": None,\n",
    "        \"columnScalers\": None\n",
    "    }\n",
    "\n",
    "    # processing the input parameters\n",
    "    start_date = dt.datetime.strptime(start_date, \"%Y-%m-%d\")\n",
    "    end_date = dt.datetime.strptime(end_date, \"%Y-%m-%d\")\n",
    "\n",
    "\n",
    "    # creating necessary folder\n",
    "    if not os.path.isdir(\"results\"):\n",
    "        os.mkdir(\"results\")\n",
    "    \n",
    "    if not os.path.isdir(\"data\"):\n",
    "        os.mkdir(\"data\")\n",
    "\n",
    "\n",
    "    \n",
    "    # checking if the data is already downloaded \n",
    "    ## Get a list of files in the directory\n",
    "    files = os.listdir(\"data\")\n",
    "    ## Check each file in the directory\n",
    "    data = None\n",
    "    for file_name in files:\n",
    "        ## if we already downloaded the ticket data\n",
    "        if file_name.startswith(ticker) and file_name.endswith(\".csv\"):\n",
    "            ### Read the file \n",
    "            file_path = os.path.join(\"data\", f\"{ticker}.csv\")\n",
    "            data = pd.read_csv(file_path, parse_dates=['Date'])\n",
    "            break\n",
    "\n",
    "    ## else, we gonna download the stock data\n",
    "    if data is None:\n",
    "        stock_data = yf.download(ticker, start_date, end_date)\n",
    "        file_path = os.path.join(\"data\", f\"{ticker}.csv\")\n",
    "        stock_data.to_csv(file_path)\n",
    "        data = pd.read_csv(file_path, parse_dates=['Date'])\n",
    "\n",
    "    # if the given time is included in the file, we just take the nessecary dataframe\n",
    "    if data.head(1)[\"Date\"].values[0] <= np.datetime64(start_date) and data.tail(1)[\"Date\"].values[0] >= np.datetime64(end_date):\n",
    "        data = data[(data['Date'] >= pd.to_datetime(start_date)) & (data['Date'] <= pd.to_datetime(end_date))]\n",
    "        print(\"Local Stock Data is enough for requirements, do not need to download\")\n",
    "    else: \n",
    "        stock_data = yf.download(ticker, start_date, end_date)\n",
    "        file_path = os.path.join(\"data\", f\"{ticker}.csv\")\n",
    "        stock_data.to_csv(file_path)\n",
    "        data = pd.read_csv(file_path, parse_dates=['Date'])\n",
    "        print(\"Local Stock Data is not enough for requirements, continuing downloading...\")\n",
    "\n",
    "    # Setting Date as Index\n",
    "    data.set_index('Date', inplace=True)\n",
    "\n",
    "    # Scale Data\n",
    "    if scale:\n",
    "        data, scaler, column_scalers = DataScaler(data, scaling_method)\n",
    "        result[\"dataset\"] = data\n",
    "        result[\"datasetScaler\"] = scaler\n",
    "        result[\"columnScalers\"] = column_scalers\n",
    "        return result\n",
    "\n",
    "    result[\"dataset\"] = data\n",
    "    \n",
    "    return result"
   ]
  },
  {
   "cell_type": "markdown",
   "metadata": {},
   "source": [
    "## Splitting Dataset"
   ]
  },
  {
   "cell_type": "code",
   "execution_count": 5,
   "metadata": {},
   "outputs": [],
   "source": [
    "def datasetSplitter(dataset: pd.DataFrame, look_up_days=LOOK_UP_DAYS, \n",
    "        training_ratio=TRAINING_RATIO,  \n",
    "        feature_columns=['Open','High','Low','Close','Adj Close','Volume'], k_sequence=K_SEQUENCE):\n",
    "    '''\n",
    "    dataset: a Pandas Dataframe\n",
    "    training_ratio: is equal to TRAINING_RATION constant\n",
    "    '''\n",
    "    # result\n",
    "    splitResult = {\n",
    "        \"X_training_set\": None,\n",
    "        \"Y_training_set\": None,\n",
    "    }\n",
    "  \n",
    "    # for column in feature_columns:\n",
    "    #     dataset_in_column = dataset[column].values.reshape(-1, 1)      # <class 'numpy.ndarray'>\n",
    "    #     x_data = []\n",
    "    #     y_data = []\n",
    "    \n",
    "    #     for x in range(look_up_days, len(dataset_in_column) - k_sequence):\n",
    "    #         x_data.append(dataset_in_column[x - look_up_days:x, 0])\n",
    "    #         y_data.append(dataset_in_column[x:x+k_sequence, 0])\n",
    "\n",
    "    #     splitResult[\"X_training_set\"][column], splitResult[\"X_testing_set\"][column], splitResult[\"Y_training_set\"][column], splitResult['Y_testing_set'][column] = train_test_split(x_data, y_data, test_size=1-training_ratio, shuffle=False)\n",
    "\n",
    "    #     ## Converting to numpy.array\n",
    "\n",
    "    #     for column in feature_columns:\n",
    "    #         splitResult[\"X_training_set\"][column] = np.array(splitResult[\"X_training_set\"][column])\n",
    "    #         splitResult[\"Y_training_set\"][column] = np.array(splitResult[\"Y_training_set\"][column])\n",
    "    #         splitResult[\"X_testing_set\"][column] = np.array(splitResult[\"X_testing_set\"][column])\n",
    "    #         splitResult[\"Y_testing_set\"][column] = np.array(splitResult[\"Y_testing_set\"][column])\n",
    "\n",
    "    # return splitResult\n",
    "\n",
    "    x_data = []\n",
    "    y_data = []\n",
    "    total_records = len(dataset)\n",
    "    for day in range(look_up_days, total_records - k_sequence):\n",
    "        data_points = []\n",
    "        y_data.append(dataset[FEATURE_PREDICT][day:day+k_sequence])\n",
    "\n",
    "        for j in range(day - look_up_days, day):\n",
    "            input_feature_x = []\n",
    "        \n",
    "            for column in feature_columns:\n",
    "                if column == FEATURE_PREDICT:\n",
    "                    continue\n",
    "                input_feature_x.append(dataset[column].values.reshape(-1, 1)[j, 0])\n",
    "\n",
    "            data_points.append(input_feature_x)\n",
    "        x_data.append(data_points)\n",
    "    splitResult[\"X_training_set\"], splitResult[\"Y_training_set\"] = x_data, y_data\n",
    "    \n",
    "    splitResult[\"X_training_set\"] = np.array(splitResult[\"X_training_set\"])\n",
    "    splitResult[\"Y_training_set\"] = np.array(splitResult[\"Y_training_set\"])\n",
    "    \n",
    "    \n",
    "    return splitResult\n"
   ]
  },
  {
   "cell_type": "markdown",
   "metadata": {},
   "source": [
    "## Data Processing 1 (FULL)\n",
    "\n",
    "A function to load and process a dataset with multiple features with the following requirements: \n",
    "\n",
    "+ Specify the start date and the end date for the whole \n",
    "dataset as inputs. \n",
    "+ Allowing you to deal with the NaN issue in the data\n",
    "+ Splitting dataset according to some specified ratio of train/test\n",
    "+ Storing the downloaded data on your local machine for future uses\n",
    "+ Allowing you to have an option to scale your feature columns and store the scalers in a data structure to allow future access to these scalers."
   ]
  },
  {
   "cell_type": "code",
   "execution_count": 6,
   "metadata": {},
   "outputs": [],
   "source": [
    "def Data_Processing_1():\n",
    "    dataLoader = DataLoader()\n",
    "\n",
    "    scaledStockData = dataLoader[\"dataset\"]\n",
    "    datasetScaler = dataLoader[\"datasetScaler\"]\n",
    "    columnScalers = dataLoader[\"columnScalers\"]\n",
    "    \n",
    "    dataset = datasetSplitter(dataset=scaledStockData)\n",
    "    \n",
    "    print(\"Loaded Done!\\nThe result is a tuple as below:\\n\")\n",
    "    print(\"(dataset, scaledStockData, datasetScaler, columnScalers), where:\\n\")\n",
    "    print(\"dataset is a dictionary as below:\")\n",
    "    print('''{\n",
    "        \"X_training_set\": <class 'numpy.ndarray'>,\n",
    "        \"Y_training_set\": <class 'numpy.ndarray'>,\n",
    "    }\\n''')\n",
    "    print(\"scaledStockData is a Pandas Dataframe of the Stock Ticker (scaled)\\n\")\n",
    "    print(\"datasetScaler is the Scaler of the dataset\\n\")\n",
    "    print(\"columnScalers is a dictionary: each key is a DataFrame Feature('Open', 'High', etc.) and the correspond value is a scaler of that feature\")\n",
    "    return dataset, scaledStockData, datasetScaler, columnScalers\n",
    "    "
   ]
  },
  {
   "cell_type": "markdown",
   "metadata": {},
   "source": [
    "# Task B5: Machine Learning 2"
   ]
  },
  {
   "cell_type": "markdown",
   "metadata": {},
   "source": [
    "## Inverse Data"
   ]
  },
  {
   "cell_type": "code",
   "execution_count": 7,
   "metadata": {},
   "outputs": [],
   "source": [
    "def datasetInverser(scaledStockData, datasetScaler):\n",
    "    \n",
    "    # Getting Column name\n",
    "    col_names = scaledStockData.columns\n",
    "    # Inversing the dataframe\n",
    "    re_scaled_features = datasetScaler.inverse_transform(scaledStockData)\n",
    "    re_scaled_stock_data = pd.DataFrame(re_scaled_features, columns = col_names)\n",
    "    # Assigning index to the rescaled_data\n",
    "    re_scaled_stock_data.index = scaledStockData.index\n",
    "\n",
    "\n",
    "    ## A Pandas Dataframe\n",
    "    return re_scaled_stock_data\n",
    "       "
   ]
  },
  {
   "cell_type": "markdown",
   "metadata": {},
   "source": [
    "## Inversing A Column in the Dataset"
   ]
  },
  {
   "cell_type": "code",
   "execution_count": 11,
   "metadata": {},
   "outputs": [],
   "source": [
    "def columnInverser(columnData, ColumnScaler):\n",
    "    '''columnData: an np.array'''\n",
    "    # transform the shape of the data\n",
    "    reshaped_data = columnData.reshape(-1, 1)\n",
    "    result = ColumnScaler.inverse_transform(reshaped_data)\n",
    "    return result"
   ]
  },
  {
   "cell_type": "markdown",
   "metadata": {},
   "source": [
    "## Plotting the Loss Error"
   ]
  },
  {
   "cell_type": "code",
   "execution_count": 12,
   "metadata": {},
   "outputs": [],
   "source": [
    "def trainingErrorPloter(loss, validation):\n",
    "    fig = plt.figure(figsize=(4, 3)) \n",
    "    plt.plot(loss, c=\"red\", label = \"training set\")\n",
    "    plt.plot(validation, c=\"blue\", label = \"validation set\")\n",
    "    plt.legend()\n",
    "    plt.title(f\"Evaluation on {MODEL_NAME} Model, LOOK_UP_DAYS={LOOK_UP_DAYS}, K_SEQUENCE={K_SEQUENCE}\")\n",
    "    plt.xlabel(\"Epochs\")\n",
    "    plt.ylabel(\"Loss\")\n",
    "    return fig"
   ]
  },
  {
   "cell_type": "markdown",
   "metadata": {},
   "source": [
    "## Plotting Metrics"
   ]
  },
  {
   "cell_type": "code",
   "execution_count": 13,
   "metadata": {},
   "outputs": [],
   "source": [
    "def MSE_MAE_Ploter(mse, mae):\n",
    "    fig = plt.figure(figsize=(4, 3)) \n",
    "    plt.plot(mse, c=\"blue\", label = f\"MSE\")\n",
    "    plt.plot(mae, c=\"red\", label = f\"MAE\")\n",
    "    plt.legend()\n",
    "    plt.title(f\"Evaluation on {MODEL_NAME} Model, LOOK_UP_DAYS={LOOK_UP_DAYS}, K_SEQUENCE={K_SEQUENCE}\")\n",
    "    plt.xlabel(\"Epochs\")\n",
    "    plt.ylabel(\"Error\")\n",
    "    return fig"
   ]
  },
  {
   "cell_type": "code",
   "execution_count": 14,
   "metadata": {},
   "outputs": [],
   "source": [
    "def R2_Ploter(R2):\n",
    "    fig = plt.figure(figsize=(4, 3)) \n",
    "    plt.plot(R2, c=\"blue\", label = f\"R2 Score\")\n",
    "    plt.legend()\n",
    "    plt.title(f\"Evaluation on {MODEL_NAME} Model, LOOK_UP_DAYS={LOOK_UP_DAYS}, K_SEQUENCE={K_SEQUENCE}\")\n",
    "    plt.xlabel(\"Epochs\")\n",
    "    plt.ylabel(\"R2 Score\")\n",
    "    return fig"
   ]
  },
  {
   "cell_type": "markdown",
   "metadata": {},
   "source": [
    "## Result Saver"
   ]
  },
  {
   "cell_type": "code",
   "execution_count": 15,
   "metadata": {},
   "outputs": [],
   "source": [
    "def resultSaver(trainedModel,errorFig, metrics_MSE_MAE, metrics_R2, modelName=MODEL_NAME):\n",
    "    ## Get a list of foler in the results folders\n",
    "    folders = os.listdir(\"results\")\n",
    "\n",
    "    if modelName not in folders:\n",
    "        # Create the folder for the model\n",
    "        folder_path = os.path.join(\"results\", modelName)\n",
    "        os.makedirs(folder_path)\n",
    "\n",
    "\n",
    "    # Access the folder model folder and getting model list\n",
    "    folder_path = os.path.join(\"results\", modelName)\n",
    "    modelLists = os.listdir(folder_path)\n",
    "        \n",
    "    # Creating a new folder to store the training infomation\n",
    "    latestFolderName = \"Model_\" + str(len(modelLists))\n",
    "    model_path = os.path.join(folder_path, latestFolderName)\n",
    "    os.makedirs(model_path)\n",
    "\n",
    "    # Saving Fig\n",
    "    errorFig.savefig(os.path.join(model_path, \"error.png\"))\n",
    "    metrics_MSE_MAE.savefig(os.path.join(model_path, \"metrics_MSE_MAE.png\"))\n",
    "    metrics_R2.savefig(os.path.join(model_path, \"metrics_R2.png\"))\n",
    "\n",
    "    # Saving model summary\n",
    "    original_stdout = sys.stdout\n",
    "\n",
    "    with open(os.path.join(model_path, \"model_summary.txt\"), 'w') as f:\n",
    "        sys.stdout = f\n",
    "        trainedModel.summary()\n",
    "\n",
    "    sys.stdout = original_stdout\n",
    "\n",
    "    ## Writing nessecary infomation to mode_summary.txt\n",
    "    with open(os.path.join(model_path, \"model_summary.txt\"), 'a') as file:\n",
    "        content = f'''\n",
    "        NUMBER_OF_LAYER = {NUMBER_OF_LAYER} \\n\n",
    "        NUMBER_OF_HIDDEN_UNITS = {NUMBER_OF_HIDDEN_UNITS} \\n\n",
    "        NUMBER_OF_EPOCHS = {NUMBER_OF_EPOCHS}\\n\n",
    "        BATCH_SIZE = {BATCH_SIZE}\\n\n",
    "        FEATURE_PREDICT = \"{FEATURE_PREDICT}\"\\n    \n",
    "        LOSS_FUNCTION = \"{LOSS_FUNCTION}\"\\n \n",
    "        OPTIMIZER = \"{OPTIMIZER}\"\\n  \n",
    "        DROP_OUT_RATE = {DROP_OUT_RATE}    '''\n",
    "        \n",
    "        file.write(content)\n",
    "        \n"
   ]
  },
  {
   "cell_type": "markdown",
   "metadata": {},
   "source": [
    "## Recurrent Neural Networks (RNNs)"
   ]
  },
  {
   "cell_type": "code",
   "execution_count": 16,
   "metadata": {},
   "outputs": [],
   "source": [
    "def RecurrentNeuralNetworks(InputLayer,layerNums=NUMBER_OF_LAYER,hidden_units=NUMBER_OF_HIDDEN_UNITS, loss_type=LOSS_FUNCTION, optimizerType=OPTIMIZER, dense_unit=K_SEQUENCE, activation=[\"tanh\", \"linear\"], dropoutRate = DROP_OUT_RATE):\n",
    "    model = Sequential()\n",
    "\n",
    "    for i in range(layerNums):\n",
    "        if i == (layerNums - 1):\n",
    "            model.add(InputLayer)\n",
    "            model.add(SimpleRNN(hidden_units, activation=activation[0]))\n",
    "            model.add(Dropout(dropoutRate))\n",
    "        else:\n",
    "            model.add(SimpleRNN(hidden_units, activation=activation[0], return_sequences=True))\n",
    "            model.add(Dropout(dropoutRate))\n",
    "\n",
    "    model.add(Dense(units=dense_unit, activation=activation[1]))\n",
    "    model.compile(loss=loss_type, metrics=[metrics.MeanSquaredError(), metrics.MeanAbsoluteError(), metrics.R2Score()], optimizer=optimizerType)\n",
    "    return model"
   ]
  },
  {
   "cell_type": "markdown",
   "metadata": {},
   "source": [
    "## Long Short Term Memory (LSTM)"
   ]
  },
  {
   "cell_type": "code",
   "execution_count": 17,
   "metadata": {},
   "outputs": [],
   "source": [
    "def LongShortTermMemory(InputLayer, layerNums=NUMBER_OF_LAYER,hidden_units=NUMBER_OF_HIDDEN_UNITS, loss_type=LOSS_FUNCTION, optimizerType=OPTIMIZER, dense_unit=K_SEQUENCE, activation=[\"tanh\", \"linear\"], dropoutRate = DROP_OUT_RATE):\n",
    "    model = Sequential()\n",
    "\n",
    "    for i in range(layerNums):\n",
    "        if i == (layerNums - 1):\n",
    "            model.add(InputLayer)\n",
    "            model.add(LSTM(hidden_units, activation=activation[0]))\n",
    "            model.add(Dropout(dropoutRate))\n",
    "        else:\n",
    "            model.add(LSTM(hidden_units, activation=activation[0], return_sequences=True))\n",
    "            model.add(Dropout(dropoutRate))\n",
    "\n",
    "    model.add(Dense(units=dense_unit, activation=activation[1]))\n",
    "    model.compile(loss=loss_type, metrics=[metrics.MeanSquaredError(), metrics.MeanAbsoluteError(), metrics.R2Score()], optimizer=optimizerType)\n",
    "    return model"
   ]
  },
  {
   "cell_type": "markdown",
   "metadata": {},
   "source": [
    "## Gated Recurrent Unit (GRU)"
   ]
  },
  {
   "cell_type": "code",
   "execution_count": 18,
   "metadata": {},
   "outputs": [],
   "source": [
    "def GatedRucurrentUnit(InputLayer, layerNums=NUMBER_OF_LAYER,hidden_units=NUMBER_OF_HIDDEN_UNITS, loss_type=LOSS_FUNCTION, optimizerType=OPTIMIZER, dense_unit=K_SEQUENCE, activation=[\"tanh\", \"linear\"], dropoutRate = DROP_OUT_RATE):\n",
    "    model = Sequential()\n",
    "\n",
    "    for i in range(layerNums):\n",
    "        if i == (layerNums - 1):\n",
    "            model.add(InputLayer)\n",
    "            model.add(GRU(hidden_units, activation=activation[0]))\n",
    "            model.add(Dropout(dropoutRate))\n",
    "        else:\n",
    "            model.add(GRU(hidden_units, activation=activation[0], return_sequences=True))\n",
    "            model.add(Dropout(dropoutRate))\n",
    "\n",
    "    model.add(Dense(units=dense_unit, activation=activation[1]))\n",
    "    model.compile(loss=loss_type, metrics=[metrics.MeanSquaredError(), metrics.MeanAbsoluteError(), metrics.R2Score()], optimizer=optimizerType)\n",
    "    return model"
   ]
  },
  {
   "cell_type": "markdown",
   "metadata": {},
   "source": [
    "## Testing Data Loader"
   ]
  },
  {
   "cell_type": "code",
   "execution_count": null,
   "metadata": {},
   "outputs": [],
   "source": [
    "def testingDataLoader(ticker=TICKER, start_date=START_TEST_DATE, end_date=END_TEST_DATE, scale=SCALE_DATA, scaling_method=SCALING_METHOD, k_days=K_SEQUENCE, feature=FEATURE_PREDICT):\n",
    "    result = {\n",
    "        \"x_scaled_test\": None,\n",
    "        \"y_scaled_test\": None,\n",
    "        \"x_orginal_test\": None,\n",
    "        \"y_original_test\": None\n",
    "    }\n",
    "    \n",
    "    stock_data = yf.download(ticker, start_date, end_date)\n",
    "    stock_data = stock_data.set_index('Date')\n",
    "    # Getting k_days records from the first record\n",
    "    stock_data = stock_data.head(k_days)\n",
    "\n",
    "    \n",
    "    ### Multiple feature!!!!!!!!!!!!!!!!!!!!!!!!!!!!!!!!!!!!!!!!!!!!!!!!!\n",
    "    # Scale Data\n",
    "    if scale:\n",
    "        scaledData, scaler, column_scalers = DataScaler(stock_data, scaling_method)\n",
    "        result[\"\"]\n",
    "        return ()\n",
    "        \n",
    "    \n",
    "    "
   ]
  },
  {
   "cell_type": "markdown",
   "metadata": {},
   "source": [
    "## Training Function"
   ]
  },
  {
   "cell_type": "code",
   "execution_count": 19,
   "metadata": {},
   "outputs": [],
   "source": [
    "def Train(model, dataset, column_scalers, scaled=SCALE_DATA, num_epoc=NUMBER_OF_EPOCHS, batch=BATCH_SIZE, feature=FEATURE_PREDICT):\n",
    "    \n",
    "\n",
    "    ## Getting x_train, y_train, x_test, and y_test\n",
    "    x_train = dataset[\"X_training_set\"]\n",
    "    y_train = dataset[\"Y_training_set\"]\n",
    "\n",
    "\n",
    "    ## Training \n",
    "    training_result = model.fit(x_train, y_train, epochs=num_epoc, batch_size=batch, validation_split=0.2)\n",
    "\n",
    "    ## Plotting the error\n",
    "    errorfig = trainingErrorPloter(training_result.history[\"loss\"], training_result.history[\"val_loss\"])\n",
    "    \n",
    "    ## Testing the result\n",
    "    \n",
    "    ### performing prediction\n",
    "    predicted_y_test = model.predict(x_test)\n",
    "    ### Inversing the data if required\n",
    "    if scaled:\n",
    "        y_test = columnInverser(y_test, column_scalers[feature])\n",
    "        predicted_y_test = columnInverser(predicted_y_test, column_scalers[feature])\n",
    "\n",
    "    ## Ploting the evaluation Result\n",
    "    MSE_MAE_Fig = MSE_MAE_Ploter(training_result.history[\"mean_squared_error\"], training_result.history[\"mean_absolute_error\"])\n",
    "    R2_Fig = R2_Ploter(training_result.history[\"r2_score\"])\n",
    "    resultSaver(model, errorfig, MSE_MAE_Fig, R2_Fig)\n"
   ]
  },
  {
   "cell_type": "code",
   "execution_count": 20,
   "metadata": {},
   "outputs": [
    {
     "name": "stderr",
     "output_type": "stream",
     "text": [
      "d:\\DELL\\Desktop\\COS30018\\COS30018\\ProjectAssessment\\TaskB1\\myenv\\Lib\\site-packages\\yfinance\\utils.py:775: FutureWarning: The 'unit' keyword in TimedeltaIndex construction is deprecated and will be removed in a future version. Use pd.to_timedelta instead.\n",
      "  df.index += _pd.TimedeltaIndex(dst_error_hours, 'h')\n",
      "[*********************100%%**********************]  1 of 1 completed\n"
     ]
    },
    {
     "name": "stdout",
     "output_type": "stream",
     "text": [
      "Local Stock Data is not enough for requirements, continuing downloading...\n",
      "Loaded Done!\n",
      "The result is a tuple as below:\n",
      "\n",
      "(dataset, scaledStockData, datasetScaler, columnScalers), where:\n",
      "\n",
      "dataset is a dictionary as below:\n",
      "{\n",
      "        \"X_training_set\": <class 'numpy.ndarray'>,\n",
      "        \"Y_training_set\": <class 'numpy.ndarray'>,\n",
      "        \"X_testing_set\": <class 'numpy.ndarray'>,\n",
      "        \"Y_testing_set\": <class 'numpy.ndarray'>\n",
      "    }\n",
      "\n",
      "scaledStockData is a Pandas Dataframe of the Stock Ticker (scaled)\n",
      "\n",
      "datasetScaler is the Scaler of the dataset\n",
      "\n",
      "columnScalers is a dictionary: each key is a DataFrame Feature('Open', 'High', etc.) and the correspond value is a scaler of that feature\n"
     ]
    }
   ],
   "source": [
    "dataset, scaledStockData, datasetScaler, ColumnScalers  = Data_Processing_1()"
   ]
  },
  {
   "cell_type": "markdown",
   "metadata": {},
   "source": [
    "# Task B5: Machine Learning 2 (FULL)"
   ]
  },
  {
   "cell_type": "code",
   "execution_count": 21,
   "metadata": {},
   "outputs": [],
   "source": [
    "def Machine_Learning_2(dataset=dataset, column_scalers=ColumnScalers,modelName=MODEL_NAME):\n",
    "    model = None\n",
    "    inputLayer = Input(shape=(dataset[\"X_training_set\"].shape[1],dataset[\"X_training_set\"].shape[2]))\n",
    "    if modelName == \"RNN\":\n",
    "        model = RecurrentNeuralNetworks(inputLayer)\n",
    "    elif modelName == \"LSTM\":\n",
    "    #     ## TO DO\n",
    "        model = LongShortTermMemory(inputLayer)\n",
    "    elif modelName == \"GRU\":\n",
    "        model = GatedRucurrentUnit(inputLayer)\n",
    "\n",
    "    ## Performing Training and getting result\n",
    "    Train(model, dataset, column_scalers)"
   ]
  },
  {
   "cell_type": "code",
   "execution_count": 22,
   "metadata": {},
   "outputs": [
    {
     "name": "stdout",
     "output_type": "stream",
     "text": [
      "WARNING:tensorflow:From d:\\DELL\\Desktop\\COS30018\\COS30018\\ProjectAssessment\\TaskB1\\myenv\\Lib\\site-packages\\keras\\src\\backend.py:1398: The name tf.executing_eagerly_outside_functions is deprecated. Please use tf.compat.v1.executing_eagerly_outside_functions instead.\n",
      "\n",
      "WARNING:tensorflow:From d:\\DELL\\Desktop\\COS30018\\COS30018\\ProjectAssessment\\TaskB1\\myenv\\Lib\\site-packages\\keras\\src\\optimizers\\__init__.py:309: The name tf.train.Optimizer is deprecated. Please use tf.compat.v1.train.Optimizer instead.\n",
      "\n",
      "Epoch 1/25\n",
      "WARNING:tensorflow:From d:\\DELL\\Desktop\\COS30018\\COS30018\\ProjectAssessment\\TaskB1\\myenv\\Lib\\site-packages\\keras\\src\\utils\\tf_utils.py:492: The name tf.ragged.RaggedTensorValue is deprecated. Please use tf.compat.v1.ragged.RaggedTensorValue instead.\n",
      "\n",
      "  1/184 [..............................] - ETA: 3:49 - loss: 0.0288 - mean_squared_error: 0.0576 - mean_absolute_error: 0.1931 - r2_score: -12.6027"
     ]
    },
    {
     "name": "stdout",
     "output_type": "stream",
     "text": [
      "184/184 [==============================] - 3s 9ms/step - loss: 9.7692e-04 - mean_squared_error: 0.0020 - mean_absolute_error: 0.0257 - r2_score: 0.4562 - val_loss: 0.0065 - val_mean_squared_error: 0.0130 - val_mean_absolute_error: 0.0769 - val_r2_score: 0.4883\n",
      "Epoch 2/25\n",
      "184/184 [==============================] - 1s 7ms/step - loss: 1.0196e-04 - mean_squared_error: 2.0392e-04 - mean_absolute_error: 0.0106 - r2_score: 0.9432 - val_loss: 0.0046 - val_mean_squared_error: 0.0092 - val_mean_absolute_error: 0.0688 - val_r2_score: 0.6372\n",
      "Epoch 3/25\n",
      "184/184 [==============================] - 1s 7ms/step - loss: 6.3639e-05 - mean_squared_error: 1.2728e-04 - mean_absolute_error: 0.0085 - r2_score: 0.9646 - val_loss: 0.0028 - val_mean_squared_error: 0.0056 - val_mean_absolute_error: 0.0517 - val_r2_score: 0.7783\n",
      "Epoch 4/25\n",
      "184/184 [==============================] - 1s 6ms/step - loss: 5.0625e-05 - mean_squared_error: 1.0125e-04 - mean_absolute_error: 0.0075 - r2_score: 0.9718 - val_loss: 0.0024 - val_mean_squared_error: 0.0047 - val_mean_absolute_error: 0.0480 - val_r2_score: 0.8149\n",
      "Epoch 5/25\n",
      "184/184 [==============================] - 1s 6ms/step - loss: 4.4050e-05 - mean_squared_error: 8.8099e-05 - mean_absolute_error: 0.0069 - r2_score: 0.9755 - val_loss: 0.0019 - val_mean_squared_error: 0.0037 - val_mean_absolute_error: 0.0432 - val_r2_score: 0.8531\n",
      "Epoch 6/25\n",
      "184/184 [==============================] - 1s 7ms/step - loss: 4.1637e-05 - mean_squared_error: 8.3274e-05 - mean_absolute_error: 0.0067 - r2_score: 0.9768 - val_loss: 0.0017 - val_mean_squared_error: 0.0034 - val_mean_absolute_error: 0.0418 - val_r2_score: 0.8658\n",
      "Epoch 7/25\n",
      "184/184 [==============================] - 1s 7ms/step - loss: 3.9874e-05 - mean_squared_error: 7.9747e-05 - mean_absolute_error: 0.0065 - r2_score: 0.9778 - val_loss: 0.0018 - val_mean_squared_error: 0.0036 - val_mean_absolute_error: 0.0437 - val_r2_score: 0.8582\n",
      "Epoch 8/25\n",
      "184/184 [==============================] - 1s 6ms/step - loss: 3.8471e-05 - mean_squared_error: 7.6941e-05 - mean_absolute_error: 0.0063 - r2_score: 0.9786 - val_loss: 0.0018 - val_mean_squared_error: 0.0035 - val_mean_absolute_error: 0.0458 - val_r2_score: 0.8612\n",
      "Epoch 9/25\n",
      "184/184 [==============================] - 1s 6ms/step - loss: 3.8342e-05 - mean_squared_error: 7.6684e-05 - mean_absolute_error: 0.0063 - r2_score: 0.9786 - val_loss: 8.7218e-04 - val_mean_squared_error: 0.0017 - val_mean_absolute_error: 0.0290 - val_r2_score: 0.9316\n",
      "Epoch 10/25\n",
      "184/184 [==============================] - 1s 7ms/step - loss: 3.6033e-05 - mean_squared_error: 7.2067e-05 - mean_absolute_error: 0.0061 - r2_score: 0.9799 - val_loss: 9.0608e-04 - val_mean_squared_error: 0.0018 - val_mean_absolute_error: 0.0306 - val_r2_score: 0.9289\n",
      "Epoch 11/25\n",
      "184/184 [==============================] - 1s 8ms/step - loss: 3.3892e-05 - mean_squared_error: 6.7785e-05 - mean_absolute_error: 0.0058 - r2_score: 0.9811 - val_loss: 7.2887e-04 - val_mean_squared_error: 0.0015 - val_mean_absolute_error: 0.0269 - val_r2_score: 0.9428\n",
      "Epoch 12/25\n",
      "184/184 [==============================] - 1s 8ms/step - loss: 3.5230e-05 - mean_squared_error: 7.0460e-05 - mean_absolute_error: 0.0060 - r2_score: 0.9804 - val_loss: 8.6500e-04 - val_mean_squared_error: 0.0017 - val_mean_absolute_error: 0.0305 - val_r2_score: 0.9321\n",
      "Epoch 13/25\n",
      "184/184 [==============================] - 2s 9ms/step - loss: 3.3783e-05 - mean_squared_error: 6.7566e-05 - mean_absolute_error: 0.0059 - r2_score: 0.9812 - val_loss: 7.6615e-04 - val_mean_squared_error: 0.0015 - val_mean_absolute_error: 0.0284 - val_r2_score: 0.9399\n",
      "Epoch 14/25\n",
      "184/184 [==============================] - 1s 8ms/step - loss: 3.5052e-05 - mean_squared_error: 7.0103e-05 - mean_absolute_error: 0.0060 - r2_score: 0.9805 - val_loss: 9.7282e-04 - val_mean_squared_error: 0.0019 - val_mean_absolute_error: 0.0333 - val_r2_score: 0.9236\n",
      "Epoch 15/25\n",
      "184/184 [==============================] - 2s 8ms/step - loss: 3.2857e-05 - mean_squared_error: 6.5714e-05 - mean_absolute_error: 0.0057 - r2_score: 0.9817 - val_loss: 0.0013 - val_mean_squared_error: 0.0026 - val_mean_absolute_error: 0.0393 - val_r2_score: 0.8962\n",
      "Epoch 16/25\n",
      "184/184 [==============================] - 2s 8ms/step - loss: 3.4381e-05 - mean_squared_error: 6.8763e-05 - mean_absolute_error: 0.0059 - r2_score: 0.9808 - val_loss: 9.3384e-04 - val_mean_squared_error: 0.0019 - val_mean_absolute_error: 0.0323 - val_r2_score: 0.9267\n",
      "Epoch 17/25\n",
      "184/184 [==============================] - 1s 8ms/step - loss: 3.4315e-05 - mean_squared_error: 6.8631e-05 - mean_absolute_error: 0.0058 - r2_score: 0.9809 - val_loss: 6.1968e-04 - val_mean_squared_error: 0.0012 - val_mean_absolute_error: 0.0249 - val_r2_score: 0.9514\n",
      "Epoch 18/25\n",
      "184/184 [==============================] - 2s 8ms/step - loss: 3.3197e-05 - mean_squared_error: 6.6393e-05 - mean_absolute_error: 0.0057 - r2_score: 0.9815 - val_loss: 5.6278e-04 - val_mean_squared_error: 0.0011 - val_mean_absolute_error: 0.0235 - val_r2_score: 0.9558\n",
      "Epoch 19/25\n",
      "184/184 [==============================] - 1s 8ms/step - loss: 3.3590e-05 - mean_squared_error: 6.7181e-05 - mean_absolute_error: 0.0058 - r2_score: 0.9813 - val_loss: 6.5192e-04 - val_mean_squared_error: 0.0013 - val_mean_absolute_error: 0.0264 - val_r2_score: 0.9488\n",
      "Epoch 20/25\n",
      "184/184 [==============================] - 1s 8ms/step - loss: 3.4891e-05 - mean_squared_error: 6.9782e-05 - mean_absolute_error: 0.0059 - r2_score: 0.9806 - val_loss: 6.4183e-04 - val_mean_squared_error: 0.0013 - val_mean_absolute_error: 0.0256 - val_r2_score: 0.9496\n",
      "Epoch 21/25\n",
      "184/184 [==============================] - 2s 9ms/step - loss: 3.2047e-05 - mean_squared_error: 6.4093e-05 - mean_absolute_error: 0.0056 - r2_score: 0.9821 - val_loss: 7.9233e-04 - val_mean_squared_error: 0.0016 - val_mean_absolute_error: 0.0296 - val_r2_score: 0.9378\n",
      "Epoch 22/25\n",
      "184/184 [==============================] - 1s 8ms/step - loss: 3.2535e-05 - mean_squared_error: 6.5070e-05 - mean_absolute_error: 0.0057 - r2_score: 0.9819 - val_loss: 6.4406e-04 - val_mean_squared_error: 0.0013 - val_mean_absolute_error: 0.0258 - val_r2_score: 0.9495\n",
      "Epoch 23/25\n",
      "184/184 [==============================] - 2s 9ms/step - loss: 3.1886e-05 - mean_squared_error: 6.3771e-05 - mean_absolute_error: 0.0056 - r2_score: 0.9822 - val_loss: 5.5485e-04 - val_mean_squared_error: 0.0011 - val_mean_absolute_error: 0.0234 - val_r2_score: 0.9565\n",
      "Epoch 24/25\n",
      "184/184 [==============================] - 1s 8ms/step - loss: 3.2284e-05 - mean_squared_error: 6.4568e-05 - mean_absolute_error: 0.0057 - r2_score: 0.9820 - val_loss: 5.8378e-04 - val_mean_squared_error: 0.0012 - val_mean_absolute_error: 0.0246 - val_r2_score: 0.9542\n",
      "Epoch 25/25\n",
      "184/184 [==============================] - 2s 8ms/step - loss: 3.2868e-05 - mean_squared_error: 6.5737e-05 - mean_absolute_error: 0.0057 - r2_score: 0.9817 - val_loss: 5.5220e-04 - val_mean_squared_error: 0.0011 - val_mean_absolute_error: 0.0235 - val_r2_score: 0.9567\n",
      "22/22 [==============================] - 0s 3ms/step\n"
     ]
    },
    {
     "data": {
      "image/png": "[encoded data removed]",
      "text/plain": [
       "<Figure size 400x300 with 1 Axes>"
      ]
     },
     "metadata": {},
     "output_type": "display_data"
    },
    {
     "data": {
      "image/png": "[encoded data removed]",
      "text/plain": [
       "<Figure size 400x300 with 1 Axes>"
      ]
     },
     "metadata": {},
     "output_type": "display_data"
    },
    {
     "data": {
      "image/png": "[encoded data removed]",
      "text/plain": [
       "<Figure size 400x300 with 1 Axes>"
      ]
     },
     "metadata": {},
     "output_type": "display_data"
    }
   ],
   "source": [
    "Machine_Learning_2()"
   ]
  },
  {
   "cell_type": "markdown",
   "metadata": {},
   "source": [
    "# Prediting"
   ]
  },
  {
   "cell_type": "code",
   "execution_count": 24,
   "metadata": {},
   "outputs": [
    {
     "name": "stdout",
     "output_type": "stream",
     "text": [
      "(689, 60, 5)\n",
      "(689, 20)\n"
     ]
    }
   ],
   "source": [
    "x_test = dataset[\"X_testing_set\"]\n",
    "y_test = dataset[\"Y_testing_set\"]\n",
    "print(x_test.shape)\n",
    "print(y_test.shape)"
   ]
  }
 ],
 "metadata": {
  "kernelspec": {
   "display_name": "myenv",
   "language": "python",
   "name": "python3"
  },
  "language_info": {
   "codemirror_mode": {
    "name": "ipython",
    "version": 3
   },
   "file_extension": ".py",
   "mimetype": "text/x-python",
   "name": "python",
   "nbconvert_exporter": "python",
   "pygments_lexer": "ipython3",
   "version": "3.11.5"
  }
 },
 "nbformat": 4,
 "nbformat_minor": 2
}
