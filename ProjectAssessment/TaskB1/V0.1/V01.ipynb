{
  "cells": [
    {
      "cell_type": "markdown",
      "metadata": {
        "id": "7rL2OezApHoh"
      },
      "source": [
        "# Import Dependencies"
      ]
    },
    {
      "cell_type": "code",
      "execution_count": 1,
      "metadata": {
        "colab": {
          "base_uri": "https://localhost:8080/"
        },
        "id": "eVYAXOeBpCC4",
        "outputId": "af4679e0-99ee-494d-d3eb-4a90f616f008"
      },
      "outputs": [
        {
          "name": "stderr",
          "output_type": "stream",
          "text": [
            "C:\\Users\\THO NGUYEN\\AppData\\Local\\Temp\\ipykernel_10272\\3734276146.py:3: DeprecationWarning: \n",
            "Pyarrow will become a required dependency of pandas in the next major release of pandas (pandas 3.0),\n",
            "(to allow more performant data types, such as the Arrow string type, and better interoperability with other libraries)\n",
            "but was not found to be installed on your system.\n",
            "If this would cause problems for you,\n",
            "please provide us feedback at https://github.com/pandas-dev/pandas/issues/54466\n",
            "        \n",
            "  import pandas as pd\n"
          ]
        },
        {
          "name": "stdout",
          "output_type": "stream",
          "text": [
            "WARNING:tensorflow:From d:\\DELL\\Desktop\\COS30018\\COS30018\\ProjectAssessment\\TaskB1\\myenv\\Lib\\site-packages\\keras\\src\\losses.py:2976: The name tf.losses.sparse_softmax_cross_entropy is deprecated. Please use tf.compat.v1.losses.sparse_softmax_cross_entropy instead.\n",
            "\n"
          ]
        }
      ],
      "source": [
        "import numpy as np\n",
        "import matplotlib.pyplot as plt\n",
        "import pandas as pd\n",
        "import yfinance as yf\n",
        "import datetime as dt\n",
        "from sklearn.preprocessing import MinMaxScaler\n",
        "from tensorflow.keras.models import Sequential\n",
        "from tensorflow.keras.layers import LSTM, Dense, Dropout"
      ]
    },
    {
      "cell_type": "markdown",
      "metadata": {
        "id": "zyQdpjy5pRQ4"
      },
      "source": [
        "# Load Data"
      ]
    },
    {
      "cell_type": "code",
      "execution_count": 2,
      "metadata": {
        "colab": {
          "base_uri": "https://localhost:8080/"
        },
        "id": "G88JbBH-pOt4",
        "outputId": "da6d1691-dcc1-4df0-a555-b7b942db3028"
      },
      "outputs": [
        {
          "name": "stderr",
          "output_type": "stream",
          "text": [
            "d:\\DELL\\Desktop\\COS30018\\COS30018\\ProjectAssessment\\TaskB1\\myenv\\Lib\\site-packages\\yfinance\\utils.py:775: FutureWarning: The 'unit' keyword in TimedeltaIndex construction is deprecated and will be removed in a future version. Use pd.to_timedelta instead.\n",
            "  df.index += _pd.TimedeltaIndex(dst_error_hours, 'h')\n",
            "[*********************100%%**********************]  1 of 1 completed\n"
          ]
        }
      ],
      "source": [
        "company = 'AAPL'\n",
        "start = dt.datetime(2012, 1, 1)\n",
        "end = dt.datetime(2020, 1, 1)\n",
        "\n",
        "data = yf.download(company, start, end)"
      ]
    },
    {
      "cell_type": "code",
      "execution_count": 3,
      "metadata": {
        "colab": {
          "base_uri": "https://localhost:8080/"
        },
        "id": "lXmiyqXkgQ_r",
        "outputId": "1e0ec4bc-f7bc-4ac4-f516-12b2ec8ccbc8"
      },
      "outputs": [
        {
          "name": "stdout",
          "output_type": "stream",
          "text": [
            "<class 'pandas.core.frame.DataFrame'>\n",
            "DatetimeIndex: 2012 entries, 2012-01-03 to 2019-12-31\n",
            "Data columns (total 6 columns):\n",
            " #   Column     Non-Null Count  Dtype  \n",
            "---  ------     --------------  -----  \n",
            " 0   Open       2012 non-null   float64\n",
            " 1   High       2012 non-null   float64\n",
            " 2   Low        2012 non-null   float64\n",
            " 3   Close      2012 non-null   float64\n",
            " 4   Adj Close  2012 non-null   float64\n",
            " 5   Volume     2012 non-null   int64  \n",
            "dtypes: float64(5), int64(1)\n",
            "memory usage: 110.0 KB\n"
          ]
        }
      ],
      "source": [
        "data.info()"
      ]
    },
    {
      "cell_type": "markdown",
      "metadata": {
        "id": "fK5FibwIpdvH"
      },
      "source": [
        "# Preparing Data"
      ]
    },
    {
      "cell_type": "code",
      "execution_count": 4,
      "metadata": {
        "colab": {
          "base_uri": "https://localhost:8080/"
        },
        "id": "kCMr0vK3pa0R",
        "outputId": "cdc21447-b0ff-4804-9b31-13e350f52b6f"
      },
      "outputs": [],
      "source": [
        "scaler = MinMaxScaler(feature_range=(0,1))\n",
        "scaled_data = scaler.fit_transform(data['Close'].values.reshape(-1, 1))\n",
        "\n",
        "prediction_days = 60\n",
        "\n",
        "x_train = []\n",
        "y_train = []\n",
        "\n",
        "\n",
        "for x in range(prediction_days, len(scaled_data)):\n",
        "  x_train.append(scaled_data[x - prediction_days:x, 0])\n",
        "  y_train.append(scaled_data[x, 0])\n",
        "\n",
        "x_train, y_train = np.array(x_train), np.array(y_train)\n",
        "x_train = np.reshape(x_train, (x_train.shape[0], x_train.shape[1], 1))"
      ]
    },
    {
      "cell_type": "markdown",
      "metadata": {
        "id": "rSPqUXALrJHj"
      },
      "source": [
        "# Build the model"
      ]
    },
    {
      "cell_type": "code",
      "execution_count": 5,
      "metadata": {
        "colab": {
          "base_uri": "https://localhost:8080/"
        },
        "id": "nKlHzzHZrKiQ",
        "outputId": "1f135d3e-b319-4cb0-96b3-342ba0feef43"
      },
      "outputs": [
        {
          "name": "stdout",
          "output_type": "stream",
          "text": [
            "WARNING:tensorflow:From d:\\DELL\\Desktop\\COS30018\\COS30018\\ProjectAssessment\\TaskB1\\myenv\\Lib\\site-packages\\keras\\src\\backend.py:873: The name tf.get_default_graph is deprecated. Please use tf.compat.v1.get_default_graph instead.\n",
            "\n",
            "WARNING:tensorflow:From d:\\DELL\\Desktop\\COS30018\\COS30018\\ProjectAssessment\\TaskB1\\myenv\\Lib\\site-packages\\keras\\src\\optimizers\\__init__.py:309: The name tf.train.Optimizer is deprecated. Please use tf.compat.v1.train.Optimizer instead.\n",
            "\n",
            "Epoch 1/25\n",
            "WARNING:tensorflow:From d:\\DELL\\Desktop\\COS30018\\COS30018\\ProjectAssessment\\TaskB1\\myenv\\Lib\\site-packages\\keras\\src\\utils\\tf_utils.py:492: The name tf.ragged.RaggedTensorValue is deprecated. Please use tf.compat.v1.ragged.RaggedTensorValue instead.\n",
            "\n",
            "61/61 [==============================] - 6s 32ms/step - loss: 0.0114\n",
            "Epoch 2/25\n",
            "61/61 [==============================] - 2s 32ms/step - loss: 0.0026\n",
            "Epoch 3/25\n",
            "61/61 [==============================] - 2s 32ms/step - loss: 0.0020\n",
            "Epoch 4/25\n",
            "61/61 [==============================] - 2s 31ms/step - loss: 0.0020\n",
            "Epoch 5/25\n",
            "61/61 [==============================] - 2s 31ms/step - loss: 0.0019\n",
            "Epoch 6/25\n",
            "61/61 [==============================] - 2s 31ms/step - loss: 0.0017\n",
            "Epoch 7/25\n",
            "61/61 [==============================] - 2s 31ms/step - loss: 0.0017\n",
            "Epoch 8/25\n",
            "61/61 [==============================] - 2s 37ms/step - loss: 0.0015\n",
            "Epoch 9/25\n",
            "61/61 [==============================] - 2s 35ms/step - loss: 0.0017\n",
            "Epoch 10/25\n",
            "61/61 [==============================] - 2s 38ms/step - loss: 0.0014\n",
            "Epoch 11/25\n",
            "61/61 [==============================] - 2s 41ms/step - loss: 0.0013\n",
            "Epoch 12/25\n",
            "61/61 [==============================] - 2s 39ms/step - loss: 0.0013\n",
            "Epoch 13/25\n",
            "61/61 [==============================] - 2s 39ms/step - loss: 0.0012\n",
            "Epoch 14/25\n",
            "61/61 [==============================] - 2s 39ms/step - loss: 0.0012\n",
            "Epoch 15/25\n",
            "61/61 [==============================] - 2s 40ms/step - loss: 0.0013\n",
            "Epoch 16/25\n",
            "61/61 [==============================] - 2s 39ms/step - loss: 0.0013\n",
            "Epoch 17/25\n",
            "61/61 [==============================] - 2s 40ms/step - loss: 0.0012\n",
            "Epoch 18/25\n",
            "61/61 [==============================] - 3s 43ms/step - loss: 0.0013\n",
            "Epoch 19/25\n",
            "61/61 [==============================] - 2s 40ms/step - loss: 0.0012\n",
            "Epoch 20/25\n",
            "61/61 [==============================] - 2s 39ms/step - loss: 9.8540e-04\n",
            "Epoch 21/25\n",
            "61/61 [==============================] - 2s 39ms/step - loss: 0.0010\n",
            "Epoch 22/25\n",
            "61/61 [==============================] - 2s 40ms/step - loss: 0.0011\n",
            "Epoch 23/25\n",
            "61/61 [==============================] - 3s 41ms/step - loss: 0.0011\n",
            "Epoch 24/25\n",
            "61/61 [==============================] - 3s 41ms/step - loss: 9.5777e-04\n",
            "Epoch 25/25\n",
            "61/61 [==============================] - 2s 40ms/step - loss: 9.8160e-04\n"
          ]
        }
      ],
      "source": [
        "model = Sequential()\n",
        "\n",
        "model.add(LSTM(units=50, return_sequences=True, input_shape=(x_train.shape[1], 1)))\n",
        "model.add(Dropout(0.2))\n",
        "model.add(LSTM(units=50, return_sequences=True))\n",
        "model.add(Dropout(0.2))\n",
        "model.add(LSTM(units=50))\n",
        "model.add(Dropout(0.2))\n",
        "model.add(Dense(units=1))\n",
        "\n",
        "model.compile(optimizer=\"adam\", loss=\"mean_squared_error\")\n",
        "history = model.fit(x_train, y_train, epochs=25, batch_size=32)\n",
        "\n"
      ]
    },
    {
      "cell_type": "markdown",
      "metadata": {
        "id": "T6tPb4U3spXa"
      },
      "source": [
        "# Testing the Accuracy"
      ]
    },
    {
      "cell_type": "code",
      "execution_count": 6,
      "metadata": {
        "colab": {
          "base_uri": "https://localhost:8080/"
        },
        "id": "-LQlQnejsrl3",
        "outputId": "4e3726f3-3910-4ec9-bc17-92658e783dd3"
      },
      "outputs": [
        {
          "name": "stderr",
          "output_type": "stream",
          "text": [
            "d:\\DELL\\Desktop\\COS30018\\COS30018\\ProjectAssessment\\TaskB1\\myenv\\Lib\\site-packages\\yfinance\\utils.py:775: FutureWarning: The 'unit' keyword in TimedeltaIndex construction is deprecated and will be removed in a future version. Use pd.to_timedelta instead.\n",
            "  df.index += _pd.TimedeltaIndex(dst_error_hours, 'h')\n",
            "[*********************100%%**********************]  1 of 1 completed\n"
          ]
        }
      ],
      "source": [
        "test_start = dt.datetime(2020, 1, 1)\n",
        "test_end = dt.datetime.now()\n",
        "\n",
        "test_data = yf.download(company, test_start, test_end)\n",
        "actual_prices = test_data[\"Close\"].values\n",
        "\n",
        "total_dataset = pd.concat((data[\"Close\"], test_data[\"Close\"]), axis=0)\n",
        "model_inputs = total_dataset[len(total_dataset) - len(test_data) - prediction_days:].values\n",
        "model_inputs = model_inputs.reshape(-1,1)\n",
        "model_inputs = scaler.transform(model_inputs)"
      ]
    },
    {
      "cell_type": "code",
      "execution_count": 7,
      "metadata": {
        "colab": {
          "base_uri": "https://localhost:8080/"
        },
        "id": "b_irbFKhicn-",
        "outputId": "b1aab0fe-fe34-44b0-f4d1-6b88adb09ed9"
      },
      "outputs": [
        {
          "name": "stdout",
          "output_type": "stream",
          "text": [
            "33/33 [==============================] - 1s 11ms/step\n"
          ]
        }
      ],
      "source": [
        "x_test = []\n",
        "\n",
        "for x in range(prediction_days, len(model_inputs)):\n",
        "  x_test.append(model_inputs[x - prediction_days:x, 0])\n",
        "\n",
        "x_test = np.array(x_test)\n",
        "x_test = np.reshape(x_test, (x_test.shape[0], x_test.shape[1], 1))\n",
        "predicted_prices = model.predict(x_test)\n",
        "predicted_prices = scaler.inverse_transform(predicted_prices)"
      ]
    },
    {
      "cell_type": "code",
      "execution_count": 8,
      "metadata": {
        "colab": {
          "base_uri": "https://localhost:8080/",
          "height": 472
        },
        "id": "VBN9udIRlahv",
        "outputId": "0cfb8c92-dd53-438d-b63e-b68bfc38a4d2"
      },
      "outputs": [
        {
          "data": {
            "image/png": "[encoded data removed]",
            "text/plain": [
              "<Figure size 640x480 with 1 Axes>"
            ]
          },
          "metadata": {},
          "output_type": "display_data"
        }
      ],
      "source": [
        "plt.plot(actual_prices, c=\"black\", label = f\"{company} Close Price (Actual)\")\n",
        "plt.plot(predicted_prices, c=\"green\", label = f\"{company} Close Price (Predicted)\")\n",
        "plt.legend()\n",
        "plt.title(f\"{company} shared price\")\n",
        "plt.xlabel(\"Time\")\n",
        "plt.ylabel(\"Price\")\n",
        "plt.show()"
      ]
    },
    {
      "cell_type": "markdown",
      "metadata": {
        "id": "dHvESoyyia1p"
      },
      "source": [
        "# Make prediction"
      ]
    },
    {
      "cell_type": "code",
      "execution_count": 9,
      "metadata": {},
      "outputs": [
        {
          "name": "stdout",
          "output_type": "stream",
          "text": [
            "1/1 [==============================] - 1s 859ms/step\n",
            "Prediction: [[164.27603]]\n"
          ]
        }
      ],
      "source": [
        "real_data = [model_inputs[len(model_inputs) + 1 - prediction_days:len(model_inputs+1), 0]]\n",
        "real_data = np.array(real_data)\n",
        "real_data = np.reshape(real_data, (real_data.shape[0], real_data.shape[1], 1))\n",
        "\n",
        "\n",
        "prediction = model.predict(real_data)\n",
        "prediction = scaler.inverse_transform(prediction)\n",
        "print(f\"Prediction: {prediction}\")\n"
      ]
    }
  ],
  "metadata": {
    "colab": {
      "provenance": []
    },
    "kernelspec": {
      "display_name": "Python 3",
      "name": "python3"
    },
    "language_info": {
      "codemirror_mode": {
        "name": "ipython",
        "version": 3
      },
      "file_extension": ".py",
      "mimetype": "text/x-python",
      "name": "python",
      "nbconvert_exporter": "python",
      "pygments_lexer": "ipython3",
      "version": "3.11.5"
    }
  },
  "nbformat": 4,
  "nbformat_minor": 0
}
