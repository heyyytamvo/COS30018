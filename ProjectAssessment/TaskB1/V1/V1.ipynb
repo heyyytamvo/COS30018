{
  "cells": [
    {
      "cell_type": "markdown",
      "metadata": {
        "id": "7rL2OezApHoh"
      },
      "source": [
        "# Import Dependencies"
      ]
    },
    {
      "cell_type": "code",
      "execution_count": 1,
      "metadata": {
        "colab": {
          "base_uri": "https://localhost:8080/"
        },
        "id": "eVYAXOeBpCC4",
        "outputId": "af4679e0-99ee-494d-d3eb-4a90f616f008"
      },
      "outputs": [
        {
          "name": "stderr",
          "output_type": "stream",
          "text": [
            "/usr/local/lib/python3.10/dist-packages/yfinance/base.py:48: FutureWarning: The default dtype for empty Series will be 'object' instead of 'float64' in a future version. Specify a dtype explicitly to silence this warning.\n",
            "  _empty_series = pd.Series()\n"
          ]
        }
      ],
      "source": [
        "import numpy as np\n",
        "import matplotlib.pyplot as plt\n",
        "import pandas as pd\n",
        "import yfinance as yf\n",
        "import datetime as dt\n",
        "from sklearn.preprocessing import MinMaxScaler\n",
        "from tensorflow.keras.models import Sequential\n",
        "from tensorflow.keras.layers import LSTM, Dense, Dropout"
      ]
    },
    {
      "cell_type": "markdown",
      "metadata": {
        "id": "zyQdpjy5pRQ4"
      },
      "source": [
        "# Load Data"
      ]
    },
    {
      "cell_type": "code",
      "execution_count": 2,
      "metadata": {
        "colab": {
          "base_uri": "https://localhost:8080/"
        },
        "id": "G88JbBH-pOt4",
        "outputId": "da6d1691-dcc1-4df0-a555-b7b942db3028"
      },
      "outputs": [
        {
          "name": "stderr",
          "output_type": "stream",
          "text": [
            "\r[*********************100%%**********************]  1 of 1 completed\n"
          ]
        }
      ],
      "source": [
        "company = 'AAPL'\n",
        "start = dt.datetime(2012, 1, 1)\n",
        "end = dt.datetime(2020, 1, 1)\n",
        "\n",
        "data = yf.download(company, start, end)"
      ]
    },
    {
      "cell_type": "code",
      "execution_count": 3,
      "metadata": {
        "colab": {
          "base_uri": "https://localhost:8080/"
        },
        "id": "lXmiyqXkgQ_r",
        "outputId": "1e0ec4bc-f7bc-4ac4-f516-12b2ec8ccbc8"
      },
      "outputs": [
        {
          "name": "stdout",
          "output_type": "stream",
          "text": [
            "<class 'pandas.core.frame.DataFrame'>\n",
            "DatetimeIndex: 2012 entries, 2012-01-03 to 2019-12-31\n",
            "Data columns (total 6 columns):\n",
            " #   Column     Non-Null Count  Dtype  \n",
            "---  ------     --------------  -----  \n",
            " 0   Open       2012 non-null   float64\n",
            " 1   High       2012 non-null   float64\n",
            " 2   Low        2012 non-null   float64\n",
            " 3   Close      2012 non-null   float64\n",
            " 4   Adj Close  2012 non-null   float64\n",
            " 5   Volume     2012 non-null   int64  \n",
            "dtypes: float64(5), int64(1)\n",
            "memory usage: 110.0 KB\n"
          ]
        }
      ],
      "source": [
        "data.info()"
      ]
    },
    {
      "cell_type": "markdown",
      "metadata": {
        "id": "fK5FibwIpdvH"
      },
      "source": [
        "# Preparing Data"
      ]
    },
    {
      "cell_type": "code",
      "execution_count": 4,
      "metadata": {
        "colab": {
          "base_uri": "https://localhost:8080/"
        },
        "id": "kCMr0vK3pa0R",
        "outputId": "cdc21447-b0ff-4804-9b31-13e350f52b6f"
      },
      "outputs": [
        {
          "name": "stdout",
          "output_type": "stream",
          "text": [
            "[[0.01243228 0.01375958 0.01651631 ... 0.12999843 0.1345029  0.13638876]\n",
            " [0.01375958 0.01651631 0.01914091 ... 0.1345029  0.13638876 0.13172814]\n",
            " [0.01651631 0.01914091 0.01873851 ... 0.13638876 0.13172814 0.12553604]\n",
            " ...\n",
            " [0.6859918  0.69381153 0.71983519 ... 0.95942994 0.96056502 0.98427651]\n",
            " [0.69381153 0.71983519 0.72004541 ... 0.96056502 0.98427651 0.98381398]\n",
            " [0.71983519 0.72004541 0.70886235 ... 0.98427651 0.98381398 0.99104513]]\n",
            "---------------\n",
            "[[[0.01243228]\n",
            "  [0.01375958]\n",
            "  [0.01651631]\n",
            "  ...\n",
            "  [0.12999843]\n",
            "  [0.1345029 ]\n",
            "  [0.13638876]]\n",
            "\n",
            " [[0.01375958]\n",
            "  [0.01651631]\n",
            "  [0.01914091]\n",
            "  ...\n",
            "  [0.1345029 ]\n",
            "  [0.13638876]\n",
            "  [0.13172814]]\n",
            "\n",
            " [[0.01651631]\n",
            "  [0.01914091]\n",
            "  [0.01873851]\n",
            "  ...\n",
            "  [0.13638876]\n",
            "  [0.13172814]\n",
            "  [0.12553604]]\n",
            "\n",
            " ...\n",
            "\n",
            " [[0.6859918 ]\n",
            "  [0.69381153]\n",
            "  [0.71983519]\n",
            "  ...\n",
            "  [0.95942994]\n",
            "  [0.96056502]\n",
            "  [0.98427651]]\n",
            "\n",
            " [[0.69381153]\n",
            "  [0.71983519]\n",
            "  [0.72004541]\n",
            "  ...\n",
            "  [0.96056502]\n",
            "  [0.98427651]\n",
            "  [0.98381398]]\n",
            "\n",
            " [[0.71983519]\n",
            "  [0.72004541]\n",
            "  [0.70886235]\n",
            "  ...\n",
            "  [0.98427651]\n",
            "  [0.98381398]\n",
            "  [0.99104513]]]\n"
          ]
        }
      ],
      "source": [
        "scaler = MinMaxScaler(feature_range=(0,1))\n",
        "scaled_data = scaler.fit_transform(data['Close'].values.reshape(-1, 1))\n",
        "\n",
        "prediction_days = 60\n",
        "\n",
        "x_train = []\n",
        "y_train = []\n",
        "\n",
        "\n",
        "for x in range(prediction_days, len(scaled_data)):\n",
        "  x_train.append(scaled_data[x - prediction_days:x, 0])\n",
        "  y_train.append(scaled_data[x, 0])\n",
        "\n",
        "x_train, y_train = np.array(x_train), np.array(y_train)\n",
        "x_train = np.reshape(x_train, (x_train.shape[0], x_train.shape[1], 1))"
      ]
    },
    {
      "cell_type": "markdown",
      "metadata": {
        "id": "rSPqUXALrJHj"
      },
      "source": [
        "# Build the model"
      ]
    },
    {
      "cell_type": "code",
      "execution_count": 5,
      "metadata": {
        "colab": {
          "base_uri": "https://localhost:8080/"
        },
        "id": "nKlHzzHZrKiQ",
        "outputId": "1f135d3e-b319-4cb0-96b3-342ba0feef43"
      },
      "outputs": [
        {
          "name": "stdout",
          "output_type": "stream",
          "text": [
            "Epoch 1/25\n",
            "61/61 [==============================] - 6s 47ms/step - loss: 0.0084\n",
            "Epoch 2/25\n",
            "61/61 [==============================] - 2s 40ms/step - loss: 0.0021\n",
            "Epoch 3/25\n",
            "61/61 [==============================] - 2s 40ms/step - loss: 0.0022\n",
            "Epoch 4/25\n",
            "61/61 [==============================] - 2s 39ms/step - loss: 0.0021\n",
            "Epoch 5/25\n",
            "61/61 [==============================] - 3s 47ms/step - loss: 0.0020\n",
            "Epoch 6/25\n",
            "61/61 [==============================] - 2s 40ms/step - loss: 0.0015\n",
            "Epoch 7/25\n",
            "61/61 [==============================] - 2s 39ms/step - loss: 0.0017\n",
            "Epoch 8/25\n",
            "61/61 [==============================] - 2s 39ms/step - loss: 0.0016\n",
            "Epoch 9/25\n",
            "61/61 [==============================] - 3s 42ms/step - loss: 0.0015\n",
            "Epoch 10/25\n",
            "61/61 [==============================] - 3s 44ms/step - loss: 0.0016\n",
            "Epoch 11/25\n",
            "61/61 [==============================] - 2s 40ms/step - loss: 0.0016\n",
            "Epoch 12/25\n",
            "61/61 [==============================] - 2s 40ms/step - loss: 0.0014\n",
            "Epoch 13/25\n",
            "61/61 [==============================] - 2s 39ms/step - loss: 0.0014\n",
            "Epoch 14/25\n",
            "61/61 [==============================] - 4s 58ms/step - loss: 0.0013\n",
            "Epoch 15/25\n",
            "61/61 [==============================] - 2s 39ms/step - loss: 0.0011\n",
            "Epoch 16/25\n",
            "61/61 [==============================] - 2s 39ms/step - loss: 0.0011\n",
            "Epoch 17/25\n",
            "61/61 [==============================] - 2s 40ms/step - loss: 0.0011\n",
            "Epoch 18/25\n",
            "61/61 [==============================] - 3s 47ms/step - loss: 0.0012\n",
            "Epoch 19/25\n",
            "61/61 [==============================] - 2s 40ms/step - loss: 0.0011\n",
            "Epoch 20/25\n",
            "61/61 [==============================] - 2s 40ms/step - loss: 0.0010\n",
            "Epoch 21/25\n",
            "61/61 [==============================] - 2s 39ms/step - loss: 0.0011\n",
            "Epoch 22/25\n",
            "61/61 [==============================] - 2s 40ms/step - loss: 0.0010\n",
            "Epoch 23/25\n",
            "61/61 [==============================] - 3s 48ms/step - loss: 0.0010\n",
            "Epoch 24/25\n",
            "61/61 [==============================] - 2s 40ms/step - loss: 9.9919e-04\n",
            "Epoch 25/25\n",
            "61/61 [==============================] - 2s 39ms/step - loss: 9.7695e-04\n"
          ]
        }
      ],
      "source": [
        "model = Sequential()\n",
        "\n",
        "model.add(LSTM(units=50, return_sequences=True, input_shape=(x_train.shape[1], 1)))\n",
        "model.add(Dropout(0.2))\n",
        "model.add(LSTM(units=50, return_sequences=True))\n",
        "model.add(Dropout(0.2))\n",
        "model.add(LSTM(units=50))\n",
        "model.add(Dropout(0.2))\n",
        "model.add(Dense(units=1))\n",
        "\n",
        "model.compile(optimizer=\"adam\", loss=\"mean_squared_error\")\n",
        "history = model.fit(x_train, y_train, epochs=25, batch_size=32)\n",
        "\n"
      ]
    },
    {
      "cell_type": "markdown",
      "metadata": {
        "id": "T6tPb4U3spXa"
      },
      "source": [
        "# Testing the Accuracy"
      ]
    },
    {
      "cell_type": "code",
      "execution_count": 6,
      "metadata": {
        "colab": {
          "base_uri": "https://localhost:8080/"
        },
        "id": "-LQlQnejsrl3",
        "outputId": "4e3726f3-3910-4ec9-bc17-92658e783dd3"
      },
      "outputs": [
        {
          "name": "stderr",
          "output_type": "stream",
          "text": [
            "\r[*********************100%%**********************]  1 of 1 completed\n"
          ]
        }
      ],
      "source": [
        "test_start = dt.datetime(2020, 1, 1)\n",
        "test_end = dt.datetime.now()\n",
        "\n",
        "test_data = yf.download(company, test_start, test_end)\n",
        "actual_prices = test_data[\"Close\"].values\n",
        "\n",
        "total_dataset = pd.concat((data[\"Close\"], test_data[\"Close\"]), axis=0)\n",
        "model_inputs = total_dataset[len(total_dataset) - len(test_data) - prediction_days:].values\n",
        "model_inputs = model_inputs.reshape(-1,1)\n",
        "model_inputs = scaler.transform(model_inputs)"
      ]
    },
    {
      "cell_type": "markdown",
      "metadata": {
        "id": "dHvESoyyia1p"
      },
      "source": [
        "# Make prediction"
      ]
    },
    {
      "cell_type": "code",
      "execution_count": 7,
      "metadata": {
        "colab": {
          "base_uri": "https://localhost:8080/"
        },
        "id": "b_irbFKhicn-",
        "outputId": "b1aab0fe-fe34-44b0-f4d1-6b88adb09ed9"
      },
      "outputs": [
        {
          "name": "stdout",
          "output_type": "stream",
          "text": [
            "33/33 [==============================] - 1s 15ms/step\n"
          ]
        }
      ],
      "source": [
        "x_test = []\n",
        "\n",
        "for x in range(prediction_days, len(model_inputs)):\n",
        "  x_test.append(model_inputs[x - prediction_days:x, 0])\n",
        "\n",
        "x_test = np.array(x_test)\n",
        "x_test = np.reshape(x_test, (x_test.shape[0], x_test.shape[1], 1))\n",
        "predicted_prices = model.predict(x_test)\n",
        "predicted_prices = scaler.inverse_transform(predicted_prices)"
      ]
    },
    {
      "cell_type": "code",
      "execution_count": 9,
      "metadata": {
        "colab": {
          "base_uri": "https://localhost:8080/",
          "height": 472
        },
        "id": "VBN9udIRlahv",
        "outputId": "0cfb8c92-dd53-438d-b63e-b68bfc38a4d2"
      },
      "outputs": [
        {
          "data": {
            "image/png": "[encoded data removed]",
            "text/plain": [
              "<Figure size 640x480 with 1 Axes>"
            ]
          },
          "metadata": {},
          "output_type": "display_data"
        }
      ],
      "source": [
        "plt.plot(actual_prices, c=\"black\", label = f\"{company} Close Price (Actual)\")\n",
        "plt.plot(predicted_prices, c=\"green\", label = f\"{company} Close Price (Predicted)\")\n",
        "plt.legend()\n",
        "plt.title(f\"{company} shared price\")\n",
        "plt.xlabel(\"Time\")\n",
        "plt.ylabel(\"Price\")\n",
        "plt.show()"
      ]
    }
  ],
  "metadata": {
    "colab": {
      "provenance": []
    },
    "kernelspec": {
      "display_name": "Python 3",
      "name": "python3"
    },
    "language_info": {
      "name": "python"
    }
  },
  "nbformat": 4,
  "nbformat_minor": 0
}
